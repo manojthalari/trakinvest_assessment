{
  "nbformat": 4,
  "nbformat_minor": 0,
  "metadata": {
    "colab": {
      "name": "trakinvest_assessment.ipynb",
      "provenance": []
    },
    "kernelspec": {
      "name": "python3",
      "display_name": "Python 3"
    },
    "language_info": {
      "name": "python"
    }
  },
  "cells": [
    {
      "cell_type": "code",
      "metadata": {
        "id": "X1rdj89nTcK-"
      },
      "source": [
        "import mysql.connector"
      ],
      "execution_count": null,
      "outputs": []
    },
    {
      "cell_type": "code",
      "metadata": {
        "id": "0fi3cRpBTcOZ"
      },
      "source": [
        "con = mysql.connector.connect(\n",
        "\thost=\"localhost\", user=\"root\", password=\"password\", database=\"emp\")"
      ],
      "execution_count": null,
      "outputs": []
    },
    {
      "cell_type": "code",
      "metadata": {
        "id": "1h_cPGBaTcST"
      },
      "source": [
        "def Add_Employ():\n",
        "\n",
        "\tId = input(\"Enter Employ Id : \")\n",
        "\t\n",
        "\t# Checking if Employee with given Id\n",
        "\t# Already Exist or Not\n",
        "\tif(check_employee(Id) == True):\n",
        "\t\tprint(\"Employee aready exists\\nTry Again\\n\")\n",
        "\t\tmenu()\n",
        "\t\t\n",
        "\telse:\n",
        "\t\tName = input(\"Enter Employ Name : \")\n",
        "\t\tPost = input(\"Enter Employ Post : \")\n",
        "\t\tSalary = input(\"Enter Employ Salary : \")\n",
        "\t\tdata = (Id, Name, Post, Salary)\n",
        "\t\n",
        "\t\t# Inserting Employee details in\n",
        "\t\t# the Employee Table\n",
        "\t\tsql = 'insert into empd values(%s,%s,%s,%s)'\n",
        "\t\tc = con.cursor()\n",
        "\t\t\n",
        "\t\t# Executing the SQL Query\n",
        "\t\tc.execute(sql, data)\n",
        "\t\t\n",
        "\t\t# commit() method to make changes in\n",
        "\t\t# the table\n",
        "\t\tcon.commit()\n",
        "\t\tprint(\"Employ Added Successfully \")\n",
        "\t\tmenu()\n"
      ],
      "execution_count": null,
      "outputs": []
    },
    {
      "cell_type": "code",
      "metadata": {
        "id": "PXceJYLPTcU7"
      },
      "source": [
        "# Function to Promote Employee\n",
        "def Promote_Employee():\n",
        "\tId = int(input(\"Enter Employ's Id\"))\n",
        "\t\n",
        "\t# Checking if Employee with given Id\n",
        "\t# Exist or Not\n",
        "\tif(check_employee(Id) == False):\n",
        "\t\tprint(\"Employee does not exists\\nTry Again\\n\")\n",
        "\t\tmenu()\n",
        "\telse:\n",
        "\t\tAmount = int(input(\"Enter increase in Salary\"))\n",
        "\t\t\n",
        "\t\t# Query to Fetch Salary of Employee\n",
        "\t\t# with given Id\n",
        "\t\tsql = 'select salary from empd where id=%s'\n",
        "\t\tdata = (Id,)\n",
        "\t\tc = con.cursor()\n",
        "\t\t\n",
        "\t\t# Executing the SQL Query\n",
        "\t\tc.execute(sql, data)\n",
        "\t\t\n",
        "\t\t# Fetching Salary of Employee with given Id\n",
        "\t\tr = c.fetchone()\n",
        "\t\tt = r[0]+Amount\n",
        "\t\t\n",
        "\t\t# Query to Update Salary of Employee with\n",
        "\t\t# given Id\n",
        "\t\tsql = 'update empd set salary=%s where id=%s'\n",
        "\t\td = (t, Id)\n",
        "\t\t\n",
        "\t\t# Executing the SQL Query\n",
        "\t\tc.execute(sql, d)\n",
        "\t\t\n",
        "\t\t# commit() method to make changes in the table\n",
        "\t\tcon.commit()\n",
        "\t\tprint(\"Employe Promoted\")\n",
        "\t\tmenu()"
      ],
      "execution_count": null,
      "outputs": []
    },
    {
      "cell_type": "code",
      "metadata": {
        "id": "LVf0AnPlTcX8"
      },
      "source": [
        "def Remove_Employ():\n",
        "\tId = input(\"Enter Employ Id : \")\n",
        "\t\n",
        "\t# Checking if Employee with given Id Exist\n",
        "\t# or Not\n",
        "\tif(check_employee(Id) == False):\n",
        "\t\tprint(\"Employee does not exists\\nTry Again\\n\")\n",
        "\t\tmenu()\n",
        "\telse:\n",
        "\t\t\n",
        "\t\t# Query to Delete Employye from Table\n",
        "\t\tsql = 'delete from empd where id=%s'\n",
        "\t\tdata = (Id,)\n",
        "\t\tc = con.cursor()\n",
        "\t\t\n",
        "\t\t# Executing the SQL Query\n",
        "\t\tc.execute(sql, data)\n",
        "\t\t\n",
        "\t\t# commit() method to make changes in\n",
        "\t\t# the table\n",
        "\t\tcon.commit()\n",
        "\t\tprint(\"Employee Removed\")\n",
        "\t\tmenu()"
      ],
      "execution_count": null,
      "outputs": []
    },
    {
      "cell_type": "code",
      "metadata": {
        "id": "EMNxdUC0TcaK"
      },
      "source": [
        "def check_employee(employee_id):\n",
        "\t\n",
        "\t# Query to select all Rows f\n",
        "\t# rom employee Table\n",
        "\tsql = 'select * from empd where id=%s'\n",
        "\t\n",
        "\t# making cursor buffered to make\n",
        "\t# rowcount method work properly\n",
        "\tc = con.cursor(buffered=True)\n",
        "\tdata = (employee_id,)\n",
        "\t\n",
        "\t# Executing the SQL Query\n",
        "\tc.execute(sql, data)\n",
        "\t\n",
        "\t# rowcount method to find\n",
        "\t# number of rows with given values\n",
        "\tr = c.rowcount\n",
        "\tif r == 1:\n",
        "\t\treturn True\n",
        "\telse:\n",
        "\t\treturn False\n",
        "\n",
        "# Function to Display All Employees\n",
        "# from Employee Table"
      ],
      "execution_count": null,
      "outputs": []
    },
    {
      "cell_type": "code",
      "metadata": {
        "id": "dksGkDxoTccb"
      },
      "source": [
        "def Display_Employees():\n",
        "\t\n",
        "\t# query to select all rows from\n",
        "\t# Employee Table\n",
        "\tsql = 'select * from empd'\n",
        "\tc = con.cursor()\n",
        "\t\n",
        "\t# Executing the SQL Query\n",
        "\tc.execute(sql)\n",
        "\t\n",
        "\t# Fetching all details of all the\n",
        "\t# Employees\n",
        "\tr = c.fetchall()\n",
        "\tfor i in r:\n",
        "\t\tprint(\"Employ Id : \", i[0])\n",
        "\t\tprint(\"Employ Name : \", i[1])\n",
        "\t\tprint(\"Employ Post : \", i[2])\n",
        "\t\tprint(\"Employ Salary : \", i[3])\n",
        "\t\tprint(\"---------------------\\\n",
        "\t\t-----------------------------\\\n",
        "\t\t------------------------------\\\n",
        "\t\t---------------------\")\n",
        "  \n",
        "  menu()"
      ],
      "execution_count": null,
      "outputs": []
    },
    {
      "cell_type": "code",
      "metadata": {
        "id": "2vW45RbvTceY"
      },
      "source": [
        "def menu():\n",
        "\tprint(\"Welcome to Employ Management Record\")\n",
        "\tprint(\"Press \")\n",
        "\tprint(\"1 to Add Employ\")\n",
        "\tprint(\"2 to Remove Employ \")\n",
        "\tprint(\"3 to Promote Employ\")\n",
        "\tprint(\"4 to Display Employees\")\n",
        "\tprint(\"5 to Exit\")\n",
        "\n",
        "\tch = int(input(\"Enter your Choice \"))\n",
        "\tif ch == 1:\n",
        "\t\tAdd_Employ()\n",
        "\telif ch == 2:\n",
        "\t\tRemove_Employ()\n",
        "\telif ch == 3:\n",
        "\t\tPromote_Employee()\n",
        "\telif ch == 4:\n",
        "\t\tDisplay_Employees()\n",
        "\telif ch == 5:\n",
        "\t\texit(0)\n",
        "\telse:\n",
        "\t\tprint(\"Invalid Choice\")\n",
        "\t\tmenu()\n",
        "\n",
        "\n",
        "# Calling menu function\n",
        "menu()\n"
      ],
      "execution_count": null,
      "outputs": []
    },
    {
      "cell_type": "code",
      "metadata": {
        "id": "Eu5C0Po4Tcgy"
      },
      "source": [
        ""
      ],
      "execution_count": null,
      "outputs": []
    }
  ]
}